{
  "nbformat": 4,
  "nbformat_minor": 0,
  "metadata": {
    "colab": {
      "name": "mfmpython1-project 1.ipynb",
      "provenance": [],
      "collapsed_sections": [],
      "authorship_tag": "ABX9TyMGjuhXq2x6BmbO9EIhyKEP",
      "include_colab_link": true
    },
    "kernelspec": {
      "name": "python3",
      "display_name": "Python 3"
    },
    "language_info": {
      "name": "python"
    }
  },
  "cells": [
    {
      "cell_type": "markdown",
      "metadata": {
        "id": "view-in-github",
        "colab_type": "text"
      },
      "source": [
        "<a href=\"https://colab.research.google.com/github/melvionmatanos2008/mfmpython1/blob/main/mfmpython1_project_1.ipynb\" target=\"_parent\"><img src=\"https://colab.research.google.com/assets/colab-badge.svg\" alt=\"Open In Colab\"/></a>"
      ]
    },
    {
      "cell_type": "code",
      "metadata": {
        "id": "or_Ob4hBJBhD"
      },
      "source": [
        ""
      ],
      "execution_count": null,
      "outputs": []
    },
    {
      "cell_type": "markdown",
      "metadata": {
        "id": "rJqtYOFsJFte"
      },
      "source": [
        "##Python First Project"
      ]
    },
    {
      "cell_type": "markdown",
      "metadata": {
        "id": "9mgKE2_wI7D5"
      },
      "source": [
        ""
      ]
    },
    {
      "cell_type": "markdown",
      "metadata": {
        "id": "STU7vLUbht1k"
      },
      "source": [
        "#Import the required libraries"
      ]
    },
    {
      "cell_type": "code",
      "metadata": {
        "id": "_lyG4iUDZ8iq"
      },
      "source": [
        "import pandas as pd\n",
        "import matplotlib.pyplot as plt"
      ],
      "execution_count": null,
      "outputs": []
    },
    {
      "cell_type": "code",
      "metadata": {
        "id": "H13Qec7YaOL3"
      },
      "source": [
        "import numpy as np\n",
        "import pandas as pd\n",
        "from numpy.random import randn\n",
        "np.random.seed(123)"
      ],
      "execution_count": null,
      "outputs": []
    },
    {
      "cell_type": "code",
      "metadata": {
        "id": "7358WjShaSTs"
      },
      "source": [
        "import pandas as pd\n",
        "import matplotlib.pyplot as plt\n",
        "import seaborn as sns"
      ],
      "execution_count": null,
      "outputs": []
    },
    {
      "cell_type": "code",
      "metadata": {
        "id": "gLNxtJmGM8EW"
      },
      "source": [
        "import seaborn as sns\n",
        "%matplotlib inline"
      ],
      "execution_count": null,
      "outputs": []
    },
    {
      "cell_type": "markdown",
      "metadata": {
        "id": "hvVYwre0iQcN"
      },
      "source": [
        "#Analyzing the dataset."
      ]
    },
    {
      "cell_type": "code",
      "metadata": {
        "colab": {
          "base_uri": "https://localhost:8080/"
        },
        "id": "NDcDOaflagsi",
        "outputId": "b3e27c2a-c58b-42a4-daa8-c92380a8aa41"
      },
      "source": [
        "df = pd.read_csv ('https://raw.githubusercontent.com/CunyLaguardiaDataAnalytics/datasets/master/2014-15_To_2016-17_School-_Level_NYC_Regents_Report_For_All_Variables.csv', index_col=0)\n",
        "print(df)"
      ],
      "execution_count": null,
      "outputs": [
        {
          "output_type": "stream",
          "text": [
            "                               School Name  ... Percent Scoring CR\n",
            "School DBN                                  ...                   \n",
            "01M034      P.S. 034 Franklin D. Roosevelt  ...                 na\n",
            "01M034      P.S. 034 Franklin D. Roosevelt  ...                 na\n",
            "01M034      P.S. 034 Franklin D. Roosevelt  ...                 na\n",
            "01M140              P.S. 140 Nathan Straus  ...                 na\n",
            "01M140              P.S. 140 Nathan Straus  ...                 na\n",
            "...                                    ...  ...                ...\n",
            "84X717                Icahn Charter School  ...                 na\n",
            "84X717                Icahn Charter School  ...                 na\n",
            "84X717                Icahn Charter School  ...                 na\n",
            "84X717                Icahn Charter School  ...                 na\n",
            "84X717                Icahn Charter School  ...                 na\n",
            "\n",
            "[212331 rows x 14 columns]\n"
          ],
          "name": "stdout"
        }
      ]
    },
    {
      "cell_type": "code",
      "metadata": {
        "colab": {
          "base_uri": "https://localhost:8080/",
          "height": 456
        },
        "id": "6kxn4MMwavLf",
        "outputId": "418b8bef-5452-4ae1-e1b7-f66e22d7efd7"
      },
      "source": [
        "df.head()"
      ],
      "execution_count": null,
      "outputs": [
        {
          "output_type": "execute_result",
          "data": {
            "text/html": [
              "<div>\n",
              "<style scoped>\n",
              "    .dataframe tbody tr th:only-of-type {\n",
              "        vertical-align: middle;\n",
              "    }\n",
              "\n",
              "    .dataframe tbody tr th {\n",
              "        vertical-align: top;\n",
              "    }\n",
              "\n",
              "    .dataframe thead th {\n",
              "        text-align: right;\n",
              "    }\n",
              "</style>\n",
              "<table border=\"1\" class=\"dataframe\">\n",
              "  <thead>\n",
              "    <tr style=\"text-align: right;\">\n",
              "      <th></th>\n",
              "      <th>School Name</th>\n",
              "      <th>School Level</th>\n",
              "      <th>Regents Exam</th>\n",
              "      <th>Year</th>\n",
              "      <th>Total Tested</th>\n",
              "      <th>Mean Score</th>\n",
              "      <th>Number Scoring Below 65</th>\n",
              "      <th>Percent Scoring Below 65</th>\n",
              "      <th>Number Scoring 65 or Above</th>\n",
              "      <th>Percent Scoring 65 or Above</th>\n",
              "      <th>Number Scoring 80 or Above</th>\n",
              "      <th>Percent Scoring 80 or Above</th>\n",
              "      <th>Number Scoring CR</th>\n",
              "      <th>Percent Scoring CR</th>\n",
              "    </tr>\n",
              "    <tr>\n",
              "      <th>School DBN</th>\n",
              "      <th></th>\n",
              "      <th></th>\n",
              "      <th></th>\n",
              "      <th></th>\n",
              "      <th></th>\n",
              "      <th></th>\n",
              "      <th></th>\n",
              "      <th></th>\n",
              "      <th></th>\n",
              "      <th></th>\n",
              "      <th></th>\n",
              "      <th></th>\n",
              "      <th></th>\n",
              "      <th></th>\n",
              "    </tr>\n",
              "  </thead>\n",
              "  <tbody>\n",
              "    <tr>\n",
              "      <th>01M034</th>\n",
              "      <td>P.S. 034 Franklin D. Roosevelt</td>\n",
              "      <td>K-8</td>\n",
              "      <td>Common Core Algebra</td>\n",
              "      <td>2017</td>\n",
              "      <td>4</td>\n",
              "      <td>s</td>\n",
              "      <td>s</td>\n",
              "      <td>s</td>\n",
              "      <td>s</td>\n",
              "      <td>s</td>\n",
              "      <td>s</td>\n",
              "      <td>s</td>\n",
              "      <td>na</td>\n",
              "      <td>na</td>\n",
              "    </tr>\n",
              "    <tr>\n",
              "      <th>01M034</th>\n",
              "      <td>P.S. 034 Franklin D. Roosevelt</td>\n",
              "      <td>K-8</td>\n",
              "      <td>Living Environment</td>\n",
              "      <td>2015</td>\n",
              "      <td>16</td>\n",
              "      <td>77.9</td>\n",
              "      <td>1</td>\n",
              "      <td>6.3</td>\n",
              "      <td>15</td>\n",
              "      <td>93.8</td>\n",
              "      <td>7</td>\n",
              "      <td>43.8</td>\n",
              "      <td>na</td>\n",
              "      <td>na</td>\n",
              "    </tr>\n",
              "    <tr>\n",
              "      <th>01M034</th>\n",
              "      <td>P.S. 034 Franklin D. Roosevelt</td>\n",
              "      <td>K-8</td>\n",
              "      <td>Living Environment</td>\n",
              "      <td>2016</td>\n",
              "      <td>9</td>\n",
              "      <td>74</td>\n",
              "      <td>1</td>\n",
              "      <td>11.1</td>\n",
              "      <td>8</td>\n",
              "      <td>88.9</td>\n",
              "      <td>2</td>\n",
              "      <td>22.2</td>\n",
              "      <td>na</td>\n",
              "      <td>na</td>\n",
              "    </tr>\n",
              "    <tr>\n",
              "      <th>01M140</th>\n",
              "      <td>P.S. 140 Nathan Straus</td>\n",
              "      <td>K-8</td>\n",
              "      <td>Common Core Algebra</td>\n",
              "      <td>2016</td>\n",
              "      <td>3</td>\n",
              "      <td>s</td>\n",
              "      <td>s</td>\n",
              "      <td>s</td>\n",
              "      <td>s</td>\n",
              "      <td>s</td>\n",
              "      <td>s</td>\n",
              "      <td>s</td>\n",
              "      <td>na</td>\n",
              "      <td>na</td>\n",
              "    </tr>\n",
              "    <tr>\n",
              "      <th>01M140</th>\n",
              "      <td>P.S. 140 Nathan Straus</td>\n",
              "      <td>K-8</td>\n",
              "      <td>Common Core Algebra</td>\n",
              "      <td>2017</td>\n",
              "      <td>2</td>\n",
              "      <td>s</td>\n",
              "      <td>s</td>\n",
              "      <td>s</td>\n",
              "      <td>s</td>\n",
              "      <td>s</td>\n",
              "      <td>s</td>\n",
              "      <td>s</td>\n",
              "      <td>na</td>\n",
              "      <td>na</td>\n",
              "    </tr>\n",
              "  </tbody>\n",
              "</table>\n",
              "</div>"
            ],
            "text/plain": [
              "                               School Name  ... Percent Scoring CR\n",
              "School DBN                                  ...                   \n",
              "01M034      P.S. 034 Franklin D. Roosevelt  ...                 na\n",
              "01M034      P.S. 034 Franklin D. Roosevelt  ...                 na\n",
              "01M034      P.S. 034 Franklin D. Roosevelt  ...                 na\n",
              "01M140              P.S. 140 Nathan Straus  ...                 na\n",
              "01M140              P.S. 140 Nathan Straus  ...                 na\n",
              "\n",
              "[5 rows x 14 columns]"
            ]
          },
          "metadata": {
            "tags": []
          },
          "execution_count": 19
        }
      ]
    },
    {
      "cell_type": "code",
      "metadata": {
        "colab": {
          "base_uri": "https://localhost:8080/",
          "height": 456
        },
        "id": "csdNlsR983B_",
        "outputId": "73efee77-31f9-4f1c-9da7-72dacd285c15"
      },
      "source": [
        "df.tail()"
      ],
      "execution_count": null,
      "outputs": [
        {
          "output_type": "execute_result",
          "data": {
            "text/html": [
              "<div>\n",
              "<style scoped>\n",
              "    .dataframe tbody tr th:only-of-type {\n",
              "        vertical-align: middle;\n",
              "    }\n",
              "\n",
              "    .dataframe tbody tr th {\n",
              "        vertical-align: top;\n",
              "    }\n",
              "\n",
              "    .dataframe thead th {\n",
              "        text-align: right;\n",
              "    }\n",
              "</style>\n",
              "<table border=\"1\" class=\"dataframe\">\n",
              "  <thead>\n",
              "    <tr style=\"text-align: right;\">\n",
              "      <th></th>\n",
              "      <th>School Name</th>\n",
              "      <th>School Level</th>\n",
              "      <th>Regents Exam</th>\n",
              "      <th>Year</th>\n",
              "      <th>Total Tested</th>\n",
              "      <th>Mean Score</th>\n",
              "      <th>Number Scoring Below 65</th>\n",
              "      <th>Percent Scoring Below 65</th>\n",
              "      <th>Number Scoring 65 or Above</th>\n",
              "      <th>Percent Scoring 65 or Above</th>\n",
              "      <th>Number Scoring 80 or Above</th>\n",
              "      <th>Percent Scoring 80 or Above</th>\n",
              "      <th>Number Scoring CR</th>\n",
              "      <th>Percent Scoring CR</th>\n",
              "    </tr>\n",
              "    <tr>\n",
              "      <th>School DBN</th>\n",
              "      <th></th>\n",
              "      <th></th>\n",
              "      <th></th>\n",
              "      <th></th>\n",
              "      <th></th>\n",
              "      <th></th>\n",
              "      <th></th>\n",
              "      <th></th>\n",
              "      <th></th>\n",
              "      <th></th>\n",
              "      <th></th>\n",
              "      <th></th>\n",
              "      <th></th>\n",
              "      <th></th>\n",
              "    </tr>\n",
              "  </thead>\n",
              "  <tbody>\n",
              "    <tr>\n",
              "      <th>84X717</th>\n",
              "      <td>Icahn Charter School</td>\n",
              "      <td>K-8</td>\n",
              "      <td>Living Environment</td>\n",
              "      <td>2016</td>\n",
              "      <td>8</td>\n",
              "      <td>s</td>\n",
              "      <td>s</td>\n",
              "      <td>s</td>\n",
              "      <td>s</td>\n",
              "      <td>s</td>\n",
              "      <td>s</td>\n",
              "      <td>s</td>\n",
              "      <td>na</td>\n",
              "      <td>na</td>\n",
              "    </tr>\n",
              "    <tr>\n",
              "      <th>84X717</th>\n",
              "      <td>Icahn Charter School</td>\n",
              "      <td>K-8</td>\n",
              "      <td>Living Environment</td>\n",
              "      <td>2016</td>\n",
              "      <td>5</td>\n",
              "      <td>s</td>\n",
              "      <td>s</td>\n",
              "      <td>s</td>\n",
              "      <td>s</td>\n",
              "      <td>s</td>\n",
              "      <td>s</td>\n",
              "      <td>s</td>\n",
              "      <td>na</td>\n",
              "      <td>na</td>\n",
              "    </tr>\n",
              "    <tr>\n",
              "      <th>84X717</th>\n",
              "      <td>Icahn Charter School</td>\n",
              "      <td>K-8</td>\n",
              "      <td>Living Environment</td>\n",
              "      <td>2017</td>\n",
              "      <td>6</td>\n",
              "      <td>s</td>\n",
              "      <td>s</td>\n",
              "      <td>s</td>\n",
              "      <td>s</td>\n",
              "      <td>s</td>\n",
              "      <td>s</td>\n",
              "      <td>s</td>\n",
              "      <td>na</td>\n",
              "      <td>na</td>\n",
              "    </tr>\n",
              "    <tr>\n",
              "      <th>84X717</th>\n",
              "      <td>Icahn Charter School</td>\n",
              "      <td>K-8</td>\n",
              "      <td>Living Environment</td>\n",
              "      <td>2017</td>\n",
              "      <td>4</td>\n",
              "      <td>s</td>\n",
              "      <td>s</td>\n",
              "      <td>s</td>\n",
              "      <td>s</td>\n",
              "      <td>s</td>\n",
              "      <td>s</td>\n",
              "      <td>s</td>\n",
              "      <td>na</td>\n",
              "      <td>na</td>\n",
              "    </tr>\n",
              "    <tr>\n",
              "      <th>84X717</th>\n",
              "      <td>Icahn Charter School</td>\n",
              "      <td>K-8</td>\n",
              "      <td>U.S. History and Government</td>\n",
              "      <td>2015</td>\n",
              "      <td>1</td>\n",
              "      <td>s</td>\n",
              "      <td>s</td>\n",
              "      <td>s</td>\n",
              "      <td>s</td>\n",
              "      <td>s</td>\n",
              "      <td>s</td>\n",
              "      <td>s</td>\n",
              "      <td>na</td>\n",
              "      <td>na</td>\n",
              "    </tr>\n",
              "  </tbody>\n",
              "</table>\n",
              "</div>"
            ],
            "text/plain": [
              "                     School Name  ... Percent Scoring CR\n",
              "School DBN                        ...                   \n",
              "84X717      Icahn Charter School  ...                 na\n",
              "84X717      Icahn Charter School  ...                 na\n",
              "84X717      Icahn Charter School  ...                 na\n",
              "84X717      Icahn Charter School  ...                 na\n",
              "84X717      Icahn Charter School  ...                 na\n",
              "\n",
              "[5 rows x 14 columns]"
            ]
          },
          "metadata": {
            "tags": []
          },
          "execution_count": 20
        }
      ]
    },
    {
      "cell_type": "code",
      "metadata": {
        "colab": {
          "base_uri": "https://localhost:8080/",
          "height": 297
        },
        "id": "F-Xk10B3HBxX",
        "outputId": "631ace6b-3294-4419-e188-5ab678d952d4"
      },
      "source": [
        "df.describe()"
      ],
      "execution_count": null,
      "outputs": [
        {
          "output_type": "execute_result",
          "data": {
            "text/html": [
              "<div>\n",
              "<style scoped>\n",
              "    .dataframe tbody tr th:only-of-type {\n",
              "        vertical-align: middle;\n",
              "    }\n",
              "\n",
              "    .dataframe tbody tr th {\n",
              "        vertical-align: top;\n",
              "    }\n",
              "\n",
              "    .dataframe thead th {\n",
              "        text-align: right;\n",
              "    }\n",
              "</style>\n",
              "<table border=\"1\" class=\"dataframe\">\n",
              "  <thead>\n",
              "    <tr style=\"text-align: right;\">\n",
              "      <th></th>\n",
              "      <th>Year</th>\n",
              "      <th>Total Tested</th>\n",
              "    </tr>\n",
              "  </thead>\n",
              "  <tbody>\n",
              "    <tr>\n",
              "      <th>count</th>\n",
              "      <td>212331.000000</td>\n",
              "      <td>212331.000000</td>\n",
              "    </tr>\n",
              "    <tr>\n",
              "      <th>mean</th>\n",
              "      <td>2015.956069</td>\n",
              "      <td>49.364200</td>\n",
              "    </tr>\n",
              "    <tr>\n",
              "      <th>std</th>\n",
              "      <td>0.799726</td>\n",
              "      <td>93.023576</td>\n",
              "    </tr>\n",
              "    <tr>\n",
              "      <th>min</th>\n",
              "      <td>2015.000000</td>\n",
              "      <td>1.000000</td>\n",
              "    </tr>\n",
              "    <tr>\n",
              "      <th>25%</th>\n",
              "      <td>2015.000000</td>\n",
              "      <td>5.000000</td>\n",
              "    </tr>\n",
              "    <tr>\n",
              "      <th>50%</th>\n",
              "      <td>2016.000000</td>\n",
              "      <td>20.000000</td>\n",
              "    </tr>\n",
              "    <tr>\n",
              "      <th>75%</th>\n",
              "      <td>2017.000000</td>\n",
              "      <td>57.000000</td>\n",
              "    </tr>\n",
              "    <tr>\n",
              "      <th>max</th>\n",
              "      <td>2017.000000</td>\n",
              "      <td>1729.000000</td>\n",
              "    </tr>\n",
              "  </tbody>\n",
              "</table>\n",
              "</div>"
            ],
            "text/plain": [
              "                Year   Total Tested\n",
              "count  212331.000000  212331.000000\n",
              "mean     2015.956069      49.364200\n",
              "std         0.799726      93.023576\n",
              "min      2015.000000       1.000000\n",
              "25%      2015.000000       5.000000\n",
              "50%      2016.000000      20.000000\n",
              "75%      2017.000000      57.000000\n",
              "max      2017.000000    1729.000000"
            ]
          },
          "metadata": {
            "tags": []
          },
          "execution_count": 76
        }
      ]
    },
    {
      "cell_type": "code",
      "metadata": {
        "colab": {
          "base_uri": "https://localhost:8080/"
        },
        "id": "7yHnn7hrLXol",
        "outputId": "9783ab49-f81b-412a-9604-35531c90d4da"
      },
      "source": [
        "df.columns"
      ],
      "execution_count": null,
      "outputs": [
        {
          "output_type": "execute_result",
          "data": {
            "text/plain": [
              "Index(['School Name', 'School Level', 'Regents Exam', 'Year', 'Total Tested',\n",
              "       'Mean Score', 'Number Scoring Below 65', 'Percent Scoring Below 65',\n",
              "       'Number Scoring 65 or Above', 'Percent Scoring 65 or Above',\n",
              "       'Number Scoring 80 or Above', 'Percent Scoring 80 or Above',\n",
              "       'Number Scoring CR', 'Percent Scoring CR'],\n",
              "      dtype='object')"
            ]
          },
          "metadata": {
            "tags": []
          },
          "execution_count": 24
        }
      ]
    },
    {
      "cell_type": "code",
      "metadata": {
        "colab": {
          "base_uri": "https://localhost:8080/"
        },
        "id": "KU1Fn9Xl-ezl",
        "outputId": "3e1bb52b-c3e1-4fc0-e2c0-6121d20b8f00"
      },
      "source": [
        "df.nunique()"
      ],
      "execution_count": null,
      "outputs": [
        {
          "output_type": "execute_result",
          "data": {
            "text/plain": [
              "School Name                    1012\n",
              "School Level                      6\n",
              "Regents Exam                     14\n",
              "Year                              3\n",
              "Total Tested                   1126\n",
              "Mean Score                      748\n",
              "Number Scoring Below 65         446\n",
              "Percent Scoring Below 65        992\n",
              "Number Scoring 65 or Above      945\n",
              "Percent Scoring 65 or Above     992\n",
              "Number Scoring 80 or Above      744\n",
              "Percent Scoring 80 or Above    1000\n",
              "Number Scoring CR               707\n",
              "Percent Scoring CR              999\n",
              "dtype: int64"
            ]
          },
          "metadata": {
            "tags": []
          },
          "execution_count": 25
        }
      ]
    },
    {
      "cell_type": "code",
      "metadata": {
        "colab": {
          "base_uri": "https://localhost:8080/"
        },
        "id": "FJDncj1bL-ec",
        "outputId": "9c298958-f3be-4b4a-dcaa-db4e13163c34"
      },
      "source": [
        "df.dtypes"
      ],
      "execution_count": 61,
      "outputs": [
        {
          "output_type": "execute_result",
          "data": {
            "text/plain": [
              "School Name                    object\n",
              "School Level                   object\n",
              "Regents Exam                   object\n",
              "Year                            int64\n",
              "Total Tested                    int64\n",
              "Mean Score                     object\n",
              "Number Scoring Below 65        object\n",
              "Percent Scoring Below 65       object\n",
              "Number Scoring 65 or Above     object\n",
              "Percent Scoring 65 or Above    object\n",
              "Number Scoring 80 or Above     object\n",
              "Percent Scoring 80 or Above    object\n",
              "Number Scoring CR              object\n",
              "Percent Scoring CR             object\n",
              "dtype: object"
            ]
          },
          "metadata": {
            "tags": []
          },
          "execution_count": 61
        }
      ]
    },
    {
      "cell_type": "code",
      "metadata": {
        "colab": {
          "base_uri": "https://localhost:8080/"
        },
        "id": "6T5EFkGM-tmY",
        "outputId": "96c52e26-c42c-44eb-c382-a4e97d948c6f"
      },
      "source": [
        "df[\"Regents Exam\"].unique()"
      ],
      "execution_count": null,
      "outputs": [
        {
          "output_type": "execute_result",
          "data": {
            "text/plain": [
              "array(['Common Core Algebra', 'Living Environment', 'Common Core English',\n",
              "       'Algebra2/Trigonometry', 'Common Core Algebra2',\n",
              "       'Common Core Geometry', 'English', 'Geometry',\n",
              "       'Global History and Geography', 'Integrated Algebra',\n",
              "       'Physical Settings/Chemistry', 'Physical Settings/Earth Science',\n",
              "       'U.S. History and Government', 'Physical Settings/Physics', nan],\n",
              "      dtype=object)"
            ]
          },
          "metadata": {
            "tags": []
          },
          "execution_count": 35
        }
      ]
    },
    {
      "cell_type": "code",
      "metadata": {
        "colab": {
          "base_uri": "https://localhost:8080/"
        },
        "id": "7jY1E0vUS7Fz",
        "outputId": "ce18b109-1758-433e-bd71-63321d925d70"
      },
      "source": [
        "df[\"School Level\"].unique()"
      ],
      "execution_count": null,
      "outputs": [
        {
          "output_type": "execute_result",
          "data": {
            "text/plain": [
              "array(['K-8', 'High school', 'Junior High-Intermediate-Middle',\n",
              "       'Secondary School', 'K-12 all grades', 'Elementary'], dtype=object)"
            ]
          },
          "metadata": {
            "tags": []
          },
          "execution_count": 36
        }
      ]
    },
    {
      "cell_type": "code",
      "metadata": {
        "id": "TZc_8VLWKEwc"
      },
      "source": [
        "#Dropping Columns and Finding out null Values"
      ],
      "execution_count": null,
      "outputs": []
    },
    {
      "cell_type": "code",
      "metadata": {
        "colab": {
          "base_uri": "https://localhost:8080/",
          "height": 863
        },
        "id": "Q525zv3fAUEm",
        "outputId": "1eb7ffe7-08a9-49a7-c7cd-5b115324d5b5"
      },
      "source": [
        "df.drop([\"Regents Exam\"], axis=1)"
      ],
      "execution_count": null,
      "outputs": [
        {
          "output_type": "execute_result",
          "data": {
            "text/html": [
              "<div>\n",
              "<style scoped>\n",
              "    .dataframe tbody tr th:only-of-type {\n",
              "        vertical-align: middle;\n",
              "    }\n",
              "\n",
              "    .dataframe tbody tr th {\n",
              "        vertical-align: top;\n",
              "    }\n",
              "\n",
              "    .dataframe thead th {\n",
              "        text-align: right;\n",
              "    }\n",
              "</style>\n",
              "<table border=\"1\" class=\"dataframe\">\n",
              "  <thead>\n",
              "    <tr style=\"text-align: right;\">\n",
              "      <th></th>\n",
              "      <th>School Name</th>\n",
              "      <th>School Level</th>\n",
              "      <th>Year</th>\n",
              "      <th>Total Tested</th>\n",
              "      <th>Mean Score</th>\n",
              "      <th>Number Scoring Below 65</th>\n",
              "      <th>Percent Scoring Below 65</th>\n",
              "      <th>Number Scoring 65 or Above</th>\n",
              "      <th>Percent Scoring 65 or Above</th>\n",
              "      <th>Number Scoring 80 or Above</th>\n",
              "      <th>Percent Scoring 80 or Above</th>\n",
              "      <th>Number Scoring CR</th>\n",
              "      <th>Percent Scoring CR</th>\n",
              "    </tr>\n",
              "    <tr>\n",
              "      <th>School DBN</th>\n",
              "      <th></th>\n",
              "      <th></th>\n",
              "      <th></th>\n",
              "      <th></th>\n",
              "      <th></th>\n",
              "      <th></th>\n",
              "      <th></th>\n",
              "      <th></th>\n",
              "      <th></th>\n",
              "      <th></th>\n",
              "      <th></th>\n",
              "      <th></th>\n",
              "      <th></th>\n",
              "    </tr>\n",
              "  </thead>\n",
              "  <tbody>\n",
              "    <tr>\n",
              "      <th>01M034</th>\n",
              "      <td>P.S. 034 Franklin D. Roosevelt</td>\n",
              "      <td>K-8</td>\n",
              "      <td>2017</td>\n",
              "      <td>4</td>\n",
              "      <td>s</td>\n",
              "      <td>s</td>\n",
              "      <td>s</td>\n",
              "      <td>s</td>\n",
              "      <td>s</td>\n",
              "      <td>s</td>\n",
              "      <td>s</td>\n",
              "      <td>na</td>\n",
              "      <td>na</td>\n",
              "    </tr>\n",
              "    <tr>\n",
              "      <th>01M034</th>\n",
              "      <td>P.S. 034 Franklin D. Roosevelt</td>\n",
              "      <td>K-8</td>\n",
              "      <td>2015</td>\n",
              "      <td>16</td>\n",
              "      <td>77.9</td>\n",
              "      <td>1</td>\n",
              "      <td>6.3</td>\n",
              "      <td>15</td>\n",
              "      <td>93.8</td>\n",
              "      <td>7</td>\n",
              "      <td>43.8</td>\n",
              "      <td>na</td>\n",
              "      <td>na</td>\n",
              "    </tr>\n",
              "    <tr>\n",
              "      <th>01M034</th>\n",
              "      <td>P.S. 034 Franklin D. Roosevelt</td>\n",
              "      <td>K-8</td>\n",
              "      <td>2016</td>\n",
              "      <td>9</td>\n",
              "      <td>74</td>\n",
              "      <td>1</td>\n",
              "      <td>11.1</td>\n",
              "      <td>8</td>\n",
              "      <td>88.9</td>\n",
              "      <td>2</td>\n",
              "      <td>22.2</td>\n",
              "      <td>na</td>\n",
              "      <td>na</td>\n",
              "    </tr>\n",
              "    <tr>\n",
              "      <th>01M140</th>\n",
              "      <td>P.S. 140 Nathan Straus</td>\n",
              "      <td>K-8</td>\n",
              "      <td>2016</td>\n",
              "      <td>3</td>\n",
              "      <td>s</td>\n",
              "      <td>s</td>\n",
              "      <td>s</td>\n",
              "      <td>s</td>\n",
              "      <td>s</td>\n",
              "      <td>s</td>\n",
              "      <td>s</td>\n",
              "      <td>na</td>\n",
              "      <td>na</td>\n",
              "    </tr>\n",
              "    <tr>\n",
              "      <th>01M140</th>\n",
              "      <td>P.S. 140 Nathan Straus</td>\n",
              "      <td>K-8</td>\n",
              "      <td>2017</td>\n",
              "      <td>2</td>\n",
              "      <td>s</td>\n",
              "      <td>s</td>\n",
              "      <td>s</td>\n",
              "      <td>s</td>\n",
              "      <td>s</td>\n",
              "      <td>s</td>\n",
              "      <td>s</td>\n",
              "      <td>na</td>\n",
              "      <td>na</td>\n",
              "    </tr>\n",
              "    <tr>\n",
              "      <th>...</th>\n",
              "      <td>...</td>\n",
              "      <td>...</td>\n",
              "      <td>...</td>\n",
              "      <td>...</td>\n",
              "      <td>...</td>\n",
              "      <td>...</td>\n",
              "      <td>...</td>\n",
              "      <td>...</td>\n",
              "      <td>...</td>\n",
              "      <td>...</td>\n",
              "      <td>...</td>\n",
              "      <td>...</td>\n",
              "      <td>...</td>\n",
              "    </tr>\n",
              "    <tr>\n",
              "      <th>84X717</th>\n",
              "      <td>Icahn Charter School</td>\n",
              "      <td>K-8</td>\n",
              "      <td>2016</td>\n",
              "      <td>8</td>\n",
              "      <td>s</td>\n",
              "      <td>s</td>\n",
              "      <td>s</td>\n",
              "      <td>s</td>\n",
              "      <td>s</td>\n",
              "      <td>s</td>\n",
              "      <td>s</td>\n",
              "      <td>na</td>\n",
              "      <td>na</td>\n",
              "    </tr>\n",
              "    <tr>\n",
              "      <th>84X717</th>\n",
              "      <td>Icahn Charter School</td>\n",
              "      <td>K-8</td>\n",
              "      <td>2016</td>\n",
              "      <td>5</td>\n",
              "      <td>s</td>\n",
              "      <td>s</td>\n",
              "      <td>s</td>\n",
              "      <td>s</td>\n",
              "      <td>s</td>\n",
              "      <td>s</td>\n",
              "      <td>s</td>\n",
              "      <td>na</td>\n",
              "      <td>na</td>\n",
              "    </tr>\n",
              "    <tr>\n",
              "      <th>84X717</th>\n",
              "      <td>Icahn Charter School</td>\n",
              "      <td>K-8</td>\n",
              "      <td>2017</td>\n",
              "      <td>6</td>\n",
              "      <td>s</td>\n",
              "      <td>s</td>\n",
              "      <td>s</td>\n",
              "      <td>s</td>\n",
              "      <td>s</td>\n",
              "      <td>s</td>\n",
              "      <td>s</td>\n",
              "      <td>na</td>\n",
              "      <td>na</td>\n",
              "    </tr>\n",
              "    <tr>\n",
              "      <th>84X717</th>\n",
              "      <td>Icahn Charter School</td>\n",
              "      <td>K-8</td>\n",
              "      <td>2017</td>\n",
              "      <td>4</td>\n",
              "      <td>s</td>\n",
              "      <td>s</td>\n",
              "      <td>s</td>\n",
              "      <td>s</td>\n",
              "      <td>s</td>\n",
              "      <td>s</td>\n",
              "      <td>s</td>\n",
              "      <td>na</td>\n",
              "      <td>na</td>\n",
              "    </tr>\n",
              "    <tr>\n",
              "      <th>84X717</th>\n",
              "      <td>Icahn Charter School</td>\n",
              "      <td>K-8</td>\n",
              "      <td>2015</td>\n",
              "      <td>1</td>\n",
              "      <td>s</td>\n",
              "      <td>s</td>\n",
              "      <td>s</td>\n",
              "      <td>s</td>\n",
              "      <td>s</td>\n",
              "      <td>s</td>\n",
              "      <td>s</td>\n",
              "      <td>na</td>\n",
              "      <td>na</td>\n",
              "    </tr>\n",
              "  </tbody>\n",
              "</table>\n",
              "<p>212331 rows × 13 columns</p>\n",
              "</div>"
            ],
            "text/plain": [
              "                               School Name  ... Percent Scoring CR\n",
              "School DBN                                  ...                   \n",
              "01M034      P.S. 034 Franklin D. Roosevelt  ...                 na\n",
              "01M034      P.S. 034 Franklin D. Roosevelt  ...                 na\n",
              "01M034      P.S. 034 Franklin D. Roosevelt  ...                 na\n",
              "01M140              P.S. 140 Nathan Straus  ...                 na\n",
              "01M140              P.S. 140 Nathan Straus  ...                 na\n",
              "...                                    ...  ...                ...\n",
              "84X717                Icahn Charter School  ...                 na\n",
              "84X717                Icahn Charter School  ...                 na\n",
              "84X717                Icahn Charter School  ...                 na\n",
              "84X717                Icahn Charter School  ...                 na\n",
              "84X717                Icahn Charter School  ...                 na\n",
              "\n",
              "[212331 rows x 13 columns]"
            ]
          },
          "metadata": {
            "tags": []
          },
          "execution_count": 42
        }
      ]
    },
    {
      "cell_type": "code",
      "metadata": {
        "colab": {
          "base_uri": "https://localhost:8080/",
          "height": 547
        },
        "id": "r_EVR1_Dedku",
        "outputId": "bbbd6869-4652-4217-9002-697ac0966adf"
      },
      "source": [
        "df.head()"
      ],
      "execution_count": null,
      "outputs": [
        {
          "output_type": "execute_result",
          "data": {
            "text/html": [
              "<div>\n",
              "<style scoped>\n",
              "    .dataframe tbody tr th:only-of-type {\n",
              "        vertical-align: middle;\n",
              "    }\n",
              "\n",
              "    .dataframe tbody tr th {\n",
              "        vertical-align: top;\n",
              "    }\n",
              "\n",
              "    .dataframe thead th {\n",
              "        text-align: right;\n",
              "    }\n",
              "</style>\n",
              "<table border=\"1\" class=\"dataframe\">\n",
              "  <thead>\n",
              "    <tr style=\"text-align: right;\">\n",
              "      <th></th>\n",
              "      <th>School Name</th>\n",
              "      <th>School Level</th>\n",
              "      <th>Regents Exam</th>\n",
              "      <th>Year</th>\n",
              "      <th>Total Tested</th>\n",
              "      <th>Mean Score</th>\n",
              "      <th>Number Scoring Below 65</th>\n",
              "      <th>Percent Scoring Below 65</th>\n",
              "      <th>Number Scoring 65 or Above</th>\n",
              "      <th>Percent Scoring 65 or Above</th>\n",
              "      <th>Number Scoring 80 or Above</th>\n",
              "      <th>Percent Scoring 80 or Above</th>\n",
              "      <th>Number Scoring CR</th>\n",
              "      <th>Percent Scoring CR</th>\n",
              "    </tr>\n",
              "    <tr>\n",
              "      <th>School DBN</th>\n",
              "      <th></th>\n",
              "      <th></th>\n",
              "      <th></th>\n",
              "      <th></th>\n",
              "      <th></th>\n",
              "      <th></th>\n",
              "      <th></th>\n",
              "      <th></th>\n",
              "      <th></th>\n",
              "      <th></th>\n",
              "      <th></th>\n",
              "      <th></th>\n",
              "      <th></th>\n",
              "      <th></th>\n",
              "    </tr>\n",
              "  </thead>\n",
              "  <tbody>\n",
              "    <tr>\n",
              "      <th>01M034</th>\n",
              "      <td>P.S. 034 Franklin D. Roosevelt</td>\n",
              "      <td>K-8</td>\n",
              "      <td>Common Core Algebra</td>\n",
              "      <td>2017</td>\n",
              "      <td>4</td>\n",
              "      <td>s</td>\n",
              "      <td>s</td>\n",
              "      <td>s</td>\n",
              "      <td>s</td>\n",
              "      <td>s</td>\n",
              "      <td>s</td>\n",
              "      <td>s</td>\n",
              "      <td>na</td>\n",
              "      <td>na</td>\n",
              "    </tr>\n",
              "    <tr>\n",
              "      <th>01M034</th>\n",
              "      <td>P.S. 034 Franklin D. Roosevelt</td>\n",
              "      <td>K-8</td>\n",
              "      <td>Living Environment</td>\n",
              "      <td>2015</td>\n",
              "      <td>16</td>\n",
              "      <td>77.9</td>\n",
              "      <td>1</td>\n",
              "      <td>6.3</td>\n",
              "      <td>15</td>\n",
              "      <td>93.8</td>\n",
              "      <td>7</td>\n",
              "      <td>43.8</td>\n",
              "      <td>na</td>\n",
              "      <td>na</td>\n",
              "    </tr>\n",
              "    <tr>\n",
              "      <th>01M034</th>\n",
              "      <td>P.S. 034 Franklin D. Roosevelt</td>\n",
              "      <td>K-8</td>\n",
              "      <td>Living Environment</td>\n",
              "      <td>2016</td>\n",
              "      <td>9</td>\n",
              "      <td>74</td>\n",
              "      <td>1</td>\n",
              "      <td>11.1</td>\n",
              "      <td>8</td>\n",
              "      <td>88.9</td>\n",
              "      <td>2</td>\n",
              "      <td>22.2</td>\n",
              "      <td>na</td>\n",
              "      <td>na</td>\n",
              "    </tr>\n",
              "    <tr>\n",
              "      <th>01M140</th>\n",
              "      <td>P.S. 140 Nathan Straus</td>\n",
              "      <td>K-8</td>\n",
              "      <td>Common Core Algebra</td>\n",
              "      <td>2016</td>\n",
              "      <td>3</td>\n",
              "      <td>s</td>\n",
              "      <td>s</td>\n",
              "      <td>s</td>\n",
              "      <td>s</td>\n",
              "      <td>s</td>\n",
              "      <td>s</td>\n",
              "      <td>s</td>\n",
              "      <td>na</td>\n",
              "      <td>na</td>\n",
              "    </tr>\n",
              "    <tr>\n",
              "      <th>01M140</th>\n",
              "      <td>P.S. 140 Nathan Straus</td>\n",
              "      <td>K-8</td>\n",
              "      <td>Common Core Algebra</td>\n",
              "      <td>2017</td>\n",
              "      <td>2</td>\n",
              "      <td>s</td>\n",
              "      <td>s</td>\n",
              "      <td>s</td>\n",
              "      <td>s</td>\n",
              "      <td>s</td>\n",
              "      <td>s</td>\n",
              "      <td>s</td>\n",
              "      <td>na</td>\n",
              "      <td>na</td>\n",
              "    </tr>\n",
              "  </tbody>\n",
              "</table>\n",
              "</div>"
            ],
            "text/plain": [
              "                               School Name  ... Percent Scoring CR\n",
              "School DBN                                  ...                   \n",
              "01M034      P.S. 034 Franklin D. Roosevelt  ...                 na\n",
              "01M034      P.S. 034 Franklin D. Roosevelt  ...                 na\n",
              "01M034      P.S. 034 Franklin D. Roosevelt  ...                 na\n",
              "01M140              P.S. 140 Nathan Straus  ...                 na\n",
              "01M140              P.S. 140 Nathan Straus  ...                 na\n",
              "\n",
              "[5 rows x 14 columns]"
            ]
          },
          "metadata": {
            "tags": []
          },
          "execution_count": 43
        }
      ]
    },
    {
      "cell_type": "code",
      "metadata": {
        "colab": {
          "base_uri": "https://localhost:8080/"
        },
        "id": "yoSLJJ2F0PCa",
        "outputId": "b2e3b78f-cf01-494a-b5f0-9fcc4daf727d"
      },
      "source": [
        "df.nunique()"
      ],
      "execution_count": null,
      "outputs": [
        {
          "output_type": "execute_result",
          "data": {
            "text/plain": [
              "School Name                    1012\n",
              "School Level                      6\n",
              "Regents Exam                     14\n",
              "Year                              3\n",
              "Total Tested                   1126\n",
              "Mean Score                      748\n",
              "Number Scoring Below 65         446\n",
              "Percent Scoring Below 65        992\n",
              "Number Scoring 65 or Above      945\n",
              "Percent Scoring 65 or Above     992\n",
              "Number Scoring 80 or Above      744\n",
              "Percent Scoring 80 or Above    1000\n",
              "Number Scoring CR               707\n",
              "Percent Scoring CR              999\n",
              "dtype: int64"
            ]
          },
          "metadata": {
            "tags": []
          },
          "execution_count": 48
        }
      ]
    },
    {
      "cell_type": "markdown",
      "metadata": {
        "id": "tV0DcaUi8Ilc"
      },
      "source": [
        ""
      ]
    },
    {
      "cell_type": "code",
      "metadata": {
        "colab": {
          "base_uri": "https://localhost:8080/"
        },
        "id": "if9NcSpwKcfj",
        "outputId": "27616e62-1056-4b3d-d80d-3d729cdbf683"
      },
      "source": [
        "df.isnull().sum()"
      ],
      "execution_count": 59,
      "outputs": [
        {
          "output_type": "execute_result",
          "data": {
            "text/plain": [
              "School Name                     0\n",
              "School Level                    0\n",
              "Regents Exam                   10\n",
              "Year                            0\n",
              "Total Tested                    0\n",
              "Mean Score                      0\n",
              "Number Scoring Below 65         0\n",
              "Percent Scoring Below 65        0\n",
              "Number Scoring 65 or Above      0\n",
              "Percent Scoring 65 or Above     0\n",
              "Number Scoring 80 or Above      0\n",
              "Percent Scoring 80 or Above     0\n",
              "Number Scoring CR               0\n",
              "Percent Scoring CR              0\n",
              "dtype: int64"
            ]
          },
          "metadata": {
            "tags": []
          },
          "execution_count": 59
        }
      ]
    },
    {
      "cell_type": "code",
      "metadata": {
        "id": "eprkF8sZKt8D"
      },
      "source": [
        "# Visualization and Analysis"
      ],
      "execution_count": null,
      "outputs": []
    },
    {
      "cell_type": "code",
      "metadata": {
        "colab": {
          "base_uri": "https://localhost:8080/",
          "height": 391
        },
        "id": "Nrji1lu1e7kG",
        "outputId": "6dca3cac-8237-4e75-b29e-5aec7bed93bf"
      },
      "source": [
        "sns.pairplot(df)"
      ],
      "execution_count": null,
      "outputs": [
        {
          "output_type": "execute_result",
          "data": {
            "text/plain": [
              "<seaborn.axisgrid.PairGrid at 0x7ff6748fa550>"
            ]
          },
          "metadata": {
            "tags": []
          },
          "execution_count": 46
        },
        {
          "output_type": "display_data",
          "data": {
            "image/png": "[encoded data removed]",
            "text/plain": [
              "<Figure size 360x360 with 6 Axes>"
            ]
          },
          "metadata": {
            "tags": [],
            "needs_background": "light"
          }
        }
      ]
    },
    {
      "cell_type": "code",
      "metadata": {
        "colab": {
          "base_uri": "https://localhost:8080/",
          "height": 111
        },
        "id": "e48LUdpCe0w4",
        "outputId": "3b13e3a1-75df-43ee-b411-d73a149037cb"
      },
      "source": [
        "df.corr()"
      ],
      "execution_count": null,
      "outputs": [
        {
          "output_type": "execute_result",
          "data": {
            "text/html": [
              "<div>\n",
              "<style scoped>\n",
              "    .dataframe tbody tr th:only-of-type {\n",
              "        vertical-align: middle;\n",
              "    }\n",
              "\n",
              "    .dataframe tbody tr th {\n",
              "        vertical-align: top;\n",
              "    }\n",
              "\n",
              "    .dataframe thead th {\n",
              "        text-align: right;\n",
              "    }\n",
              "</style>\n",
              "<table border=\"1\" class=\"dataframe\">\n",
              "  <thead>\n",
              "    <tr style=\"text-align: right;\">\n",
              "      <th></th>\n",
              "      <th>Year</th>\n",
              "      <th>Total Tested</th>\n",
              "    </tr>\n",
              "  </thead>\n",
              "  <tbody>\n",
              "    <tr>\n",
              "      <th>Year</th>\n",
              "      <td>1.000000</td>\n",
              "      <td>0.005777</td>\n",
              "    </tr>\n",
              "    <tr>\n",
              "      <th>Total Tested</th>\n",
              "      <td>0.005777</td>\n",
              "      <td>1.000000</td>\n",
              "    </tr>\n",
              "  </tbody>\n",
              "</table>\n",
              "</div>"
            ],
            "text/plain": [
              "                  Year  Total Tested\n",
              "Year          1.000000      0.005777\n",
              "Total Tested  0.005777      1.000000"
            ]
          },
          "metadata": {
            "tags": []
          },
          "execution_count": 44
        }
      ]
    },
    {
      "cell_type": "code",
      "metadata": {
        "colab": {
          "base_uri": "https://localhost:8080/"
        },
        "id": "HDH432_Y3idu",
        "outputId": "0b64096e-afc9-4035-bc66-20588b6ab640"
      },
      "source": [
        "df[df['Number Scoring Below 65'] == \"number\"].count()"
      ],
      "execution_count": null,
      "outputs": [
        {
          "output_type": "execute_result",
          "data": {
            "text/plain": [
              "School Name                    0\n",
              "School Level                   0\n",
              "Regents Exam                   0\n",
              "Year                           0\n",
              "Total Tested                   0\n",
              "Mean Score                     0\n",
              "Number Scoring Below 65        0\n",
              "Percent Scoring Below 65       0\n",
              "Number Scoring 65 or Above     0\n",
              "Percent Scoring 65 or Above    0\n",
              "Number Scoring 80 or Above     0\n",
              "Percent Scoring 80 or Above    0\n",
              "Number Scoring CR              0\n",
              "Percent Scoring CR             0\n",
              "dtype: int64"
            ]
          },
          "metadata": {
            "tags": []
          },
          "execution_count": 60
        }
      ]
    },
    {
      "cell_type": "code",
      "metadata": {
        "colab": {
          "base_uri": "https://localhost:8080/"
        },
        "id": "7GXTzOqC_Px1",
        "outputId": "1cee5e60-8995-46ac-944e-e14126ef25b2"
      },
      "source": [
        "df[\"Total Tested\"]"
      ],
      "execution_count": null,
      "outputs": [
        {
          "output_type": "execute_result",
          "data": {
            "text/plain": [
              "School DBN\n",
              "01M034     4\n",
              "01M034    16\n",
              "01M034     9\n",
              "01M140     3\n",
              "01M140     2\n",
              "          ..\n",
              "84X717     8\n",
              "84X717     5\n",
              "84X717     6\n",
              "84X717     4\n",
              "84X717     1\n",
              "Name: Total Tested, Length: 212331, dtype: int64"
            ]
          },
          "metadata": {
            "tags": []
          },
          "execution_count": 64
        }
      ]
    },
    {
      "cell_type": "code",
      "metadata": {
        "colab": {
          "base_uri": "https://localhost:8080/"
        },
        "id": "bA1loN2Ik8DM",
        "outputId": "266c1588-8358-4370-bf3f-a465cb05ee83"
      },
      "source": [
        "df.groupby([\"School Level\"])[\"Total Tested\"].count().sort_values(ascending=False)"
      ],
      "execution_count": null,
      "outputs": [
        {
          "output_type": "execute_result",
          "data": {
            "text/plain": [
              "School Level\n",
              "High school                        151160\n",
              "Secondary School                    30252\n",
              "Junior High-Intermediate-Middle     15742\n",
              "K-12 all grades                      8294\n",
              "K-8                                  6858\n",
              "Elementary                             25\n",
              "Name: Total Tested, dtype: int64"
            ]
          },
          "metadata": {
            "tags": []
          },
          "execution_count": 55
        }
      ]
    },
    {
      "cell_type": "code",
      "metadata": {
        "colab": {
          "base_uri": "https://localhost:8080/",
          "height": 282
        },
        "id": "a_Xt-__372Tq",
        "outputId": "5ac12a4b-a95c-46ae-97e6-362dd3bd6bd5"
      },
      "source": [
        "df.plot(kind=\"hist\", x=\"School Level\", y=\"Total Tested\")"
      ],
      "execution_count": 62,
      "outputs": [
        {
          "output_type": "execute_result",
          "data": {
            "text/plain": [
              "<matplotlib.axes._subplots.AxesSubplot at 0x7ff6699a7290>"
            ]
          },
          "metadata": {
            "tags": []
          },
          "execution_count": 62
        },
        {
          "output_type": "display_data",
          "data": {
            "image/png": "[encoded data removed]",
            "text/plain": [
              "<Figure size 432x288 with 1 Axes>"
            ]
          },
          "metadata": {
            "tags": [],
            "needs_background": "light"
          }
        }
      ]
    },
    {
      "cell_type": "markdown",
      "metadata": {
        "id": "w3j6u9Gw4h3x"
      },
      "source": [
        ""
      ]
    },
    {
      "cell_type": "code",
      "metadata": {
        "colab": {
          "base_uri": "https://localhost:8080/",
          "height": 297
        },
        "id": "wVYZK3gbckyY",
        "outputId": "e6202b7d-b62b-4fe5-bed8-b5aa559aea19"
      },
      "source": [
        "df.describe()"
      ],
      "execution_count": null,
      "outputs": [
        {
          "output_type": "execute_result",
          "data": {
            "text/html": [
              "<div>\n",
              "<style scoped>\n",
              "    .dataframe tbody tr th:only-of-type {\n",
              "        vertical-align: middle;\n",
              "    }\n",
              "\n",
              "    .dataframe tbody tr th {\n",
              "        vertical-align: top;\n",
              "    }\n",
              "\n",
              "    .dataframe thead th {\n",
              "        text-align: right;\n",
              "    }\n",
              "</style>\n",
              "<table border=\"1\" class=\"dataframe\">\n",
              "  <thead>\n",
              "    <tr style=\"text-align: right;\">\n",
              "      <th></th>\n",
              "      <th>Year</th>\n",
              "      <th>Total Tested</th>\n",
              "    </tr>\n",
              "  </thead>\n",
              "  <tbody>\n",
              "    <tr>\n",
              "      <th>count</th>\n",
              "      <td>212331.000000</td>\n",
              "      <td>212331.000000</td>\n",
              "    </tr>\n",
              "    <tr>\n",
              "      <th>mean</th>\n",
              "      <td>2015.956069</td>\n",
              "      <td>49.364200</td>\n",
              "    </tr>\n",
              "    <tr>\n",
              "      <th>std</th>\n",
              "      <td>0.799726</td>\n",
              "      <td>93.023576</td>\n",
              "    </tr>\n",
              "    <tr>\n",
              "      <th>min</th>\n",
              "      <td>2015.000000</td>\n",
              "      <td>1.000000</td>\n",
              "    </tr>\n",
              "    <tr>\n",
              "      <th>25%</th>\n",
              "      <td>2015.000000</td>\n",
              "      <td>5.000000</td>\n",
              "    </tr>\n",
              "    <tr>\n",
              "      <th>50%</th>\n",
              "      <td>2016.000000</td>\n",
              "      <td>20.000000</td>\n",
              "    </tr>\n",
              "    <tr>\n",
              "      <th>75%</th>\n",
              "      <td>2017.000000</td>\n",
              "      <td>57.000000</td>\n",
              "    </tr>\n",
              "    <tr>\n",
              "      <th>max</th>\n",
              "      <td>2017.000000</td>\n",
              "      <td>1729.000000</td>\n",
              "    </tr>\n",
              "  </tbody>\n",
              "</table>\n",
              "</div>"
            ],
            "text/plain": [
              "                Year   Total Tested\n",
              "count  212331.000000  212331.000000\n",
              "mean     2015.956069      49.364200\n",
              "std         0.799726      93.023576\n",
              "min      2015.000000       1.000000\n",
              "25%      2015.000000       5.000000\n",
              "50%      2016.000000      20.000000\n",
              "75%      2017.000000      57.000000\n",
              "max      2017.000000    1729.000000"
            ]
          },
          "metadata": {
            "tags": []
          },
          "execution_count": 7
        }
      ]
    },
    {
      "cell_type": "code",
      "metadata": {
        "id": "HkiXmXFY_7U4"
      },
      "source": [
        "test score = df.drop(\"Regents Exam\", )"
      ],
      "execution_count": null,
      "outputs": []
    },
    {
      "cell_type": "code",
      "metadata": {
        "colab": {
          "base_uri": "https://localhost:8080/"
        },
        "id": "vcEZuw3ZaQxJ",
        "outputId": "a3129c8e-5183-42e8-d4b4-6958e2201ae9"
      },
      "source": [
        "df.mean()"
      ],
      "execution_count": null,
      "outputs": [
        {
          "output_type": "execute_result",
          "data": {
            "text/plain": [
              "Year            2015.956069\n",
              "Total Tested      49.364200\n",
              "dtype: float64"
            ]
          },
          "metadata": {
            "tags": []
          },
          "execution_count": 9
        }
      ]
    },
    {
      "cell_type": "code",
      "metadata": {
        "colab": {
          "base_uri": "https://localhost:8080/"
        },
        "id": "OaWjS4qObp0b",
        "outputId": "9897e594-507c-4f29-c4a9-59aeb1ed47ec"
      },
      "source": [
        "df.median()"
      ],
      "execution_count": null,
      "outputs": [
        {
          "output_type": "execute_result",
          "data": {
            "text/plain": [
              "Year            2016.0\n",
              "Total Tested      20.0\n",
              "dtype: float64"
            ]
          },
          "metadata": {
            "tags": []
          },
          "execution_count": 11
        }
      ]
    },
    {
      "cell_type": "code",
      "metadata": {
        "colab": {
          "base_uri": "https://localhost:8080/"
        },
        "id": "aTIiJk34cAY6",
        "outputId": "1a7318ed-5a94-4cc1-8bb7-e25e484b6dcf"
      },
      "source": [
        "df.index"
      ],
      "execution_count": null,
      "outputs": [
        {
          "output_type": "execute_result",
          "data": {
            "text/plain": [
              "Index(['01M034', '01M034', '01M034', '01M140', '01M140', '01M140', '01M140',\n",
              "       '01M140', '01M184', '01M184',\n",
              "       ...\n",
              "       '84X717', '84X717', '84X717', '84X717', '84X717', '84X717', '84X717',\n",
              "       '84X717', '84X717', '84X717'],\n",
              "      dtype='object', name='School DBN', length=212331)"
            ]
          },
          "metadata": {
            "tags": []
          },
          "execution_count": 13
        }
      ]
    },
    {
      "cell_type": "code",
      "metadata": {
        "colab": {
          "base_uri": "https://localhost:8080/"
        },
        "id": "pimS7voycNVr",
        "outputId": "a8158ba2-b07f-489d-a69e-2a604ccb4de2"
      },
      "source": [
        "df.info()"
      ],
      "execution_count": null,
      "outputs": [
        {
          "output_type": "stream",
          "text": [
            "<class 'pandas.core.frame.DataFrame'>\n",
            "Index: 212331 entries, 01M034 to 84X717\n",
            "Data columns (total 14 columns):\n",
            " #   Column                       Non-Null Count   Dtype \n",
            "---  ------                       --------------   ----- \n",
            " 0   School Name                  212331 non-null  object\n",
            " 1   School Level                 212331 non-null  object\n",
            " 2   Regents Exam                 212321 non-null  object\n",
            " 3   Year                         212331 non-null  int64 \n",
            " 4   Total Tested                 212331 non-null  int64 \n",
            " 5   Mean Score                   212331 non-null  object\n",
            " 6   Number Scoring Below 65      212331 non-null  object\n",
            " 7   Percent Scoring Below 65     212331 non-null  object\n",
            " 8   Number Scoring 65 or Above   212331 non-null  object\n",
            " 9   Percent Scoring 65 or Above  212331 non-null  object\n",
            " 10  Number Scoring 80 or Above   212331 non-null  object\n",
            " 11  Percent Scoring 80 or Above  212331 non-null  object\n",
            " 12  Number Scoring CR            212331 non-null  object\n",
            " 13  Percent Scoring CR           212331 non-null  object\n",
            "dtypes: int64(2), object(12)\n",
            "memory usage: 24.3+ MB\n"
          ],
          "name": "stdout"
        }
      ]
    },
    {
      "cell_type": "code",
      "metadata": {
        "colab": {
          "base_uri": "https://localhost:8080/"
        },
        "id": "cmCL_BSR21DM",
        "outputId": "e7faf083-437e-4563-d40f-00dc3ccad37d"
      },
      "source": [
        "df[\"Total Tested\"]"
      ],
      "execution_count": null,
      "outputs": [
        {
          "output_type": "execute_result",
          "data": {
            "text/plain": [
              "School DBN\n",
              "01M034     4\n",
              "01M034    16\n",
              "01M034     9\n",
              "01M140     3\n",
              "01M140     2\n",
              "          ..\n",
              "84X717     8\n",
              "84X717     5\n",
              "84X717     6\n",
              "84X717     4\n",
              "84X717     1\n",
              "Name: Total Tested, Length: 212331, dtype: int64"
            ]
          },
          "metadata": {
            "tags": []
          },
          "execution_count": 44
        }
      ]
    }
  ]
}