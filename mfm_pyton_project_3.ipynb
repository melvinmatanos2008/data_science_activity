{
  "nbformat": 4,
  "nbformat_minor": 0,
  "metadata": {
    "colab": {
      "name": "mfm pyton project 3.ipynb",
      "provenance": [],
      "authorship_tag": "ABX9TyMxTRzag6ujpfCCS9W3yhmy",
      "include_colab_link": true
    },
    "kernelspec": {
      "name": "python3",
      "display_name": "Python 3"
    },
    "language_info": {
      "name": "python"
    }
  },
  "cells": [
    {
      "cell_type": "markdown",
      "metadata": {
        "id": "view-in-github",
        "colab_type": "text"
      },
      "source": [
        "<a href=\"https://colab.research.google.com/github/melvionmatanos2008/mfmpython1/blob/main/mfm_pyton_project_3.ipynb\" target=\"_parent\"><img src=\"https://colab.research.google.com/assets/colab-badge.svg\" alt=\"Open In Colab\"/></a>"
      ]
    },
    {
      "cell_type": "markdown",
      "metadata": {
        "id": "328zyyb8SGPw"
      },
      "source": [
        "# Analyzing dataset for COVID-19 Daily Counts of Cases, Hospitalizations, and Deaths"
      ]
    },
    {
      "cell_type": "markdown",
      "metadata": {
        "id": "5wdaepGgtYQV"
      },
      "source": [
        "# Importing the required libraries."
      ]
    },
    {
      "cell_type": "code",
      "metadata": {
        "id": "itzki0EbLdRH"
      },
      "source": [
        "import pandas as pd\n",
        "import numpy as np\n",
        "import seaborn as sns\n",
        "import matplotlib.pyplot as plt\n",
        "import re\n",
        "import math\n",
        "%matplotlib inline"
      ],
      "execution_count": 8,
      "outputs": []
    },
    {
      "cell_type": "code",
      "metadata": {
        "id": "TLMrgli4pUMU"
      },
      "source": [
        "import pandas_profiling as pp"
      ],
      "execution_count": 13,
      "outputs": []
    },
    {
      "cell_type": "code",
      "metadata": {
        "colab": {
          "base_uri": "https://localhost:8080/"
        },
        "id": "BPkyo24KPSet",
        "outputId": "7a9bf472-1157-43b0-c543-4ceda41e56cb"
      },
      "source": [
        "df = pd.read_csv('https://data.cityofnewyork.us/resource/cwmx-mvra.csv')\n",
        "print(df)"
      ],
      "execution_count": 79,
      "outputs": [
        {
          "output_type": "stream",
          "text": [
            "                extract_date  ... number_deaths\n",
            "0    2021-06-20T00:00:00.000  ...             0\n",
            "1    2021-06-20T00:00:00.000  ...            34\n",
            "2    2021-06-20T00:00:00.000  ...            15\n",
            "3    2021-06-20T00:00:00.000  ...             0\n",
            "4    2021-06-20T00:00:00.000  ...            12\n",
            "..                       ...  ...           ...\n",
            "995  2021-06-19T00:00:00.000  ...            28\n",
            "996  2021-06-19T00:00:00.000  ...            25\n",
            "997  2021-06-19T00:00:00.000  ...            24\n",
            "998  2021-06-19T00:00:00.000  ...           588\n",
            "999  2021-06-19T00:00:00.000  ...           208\n",
            "\n",
            "[1000 rows x 6 columns]\n"
          ],
          "name": "stdout"
        }
      ]
    },
    {
      "cell_type": "code",
      "metadata": {
        "colab": {
          "base_uri": "https://localhost:8080/",
          "height": 421
        },
        "id": "IfsEnpBYRURy",
        "outputId": "ff7b3b0b-28fa-4188-d5f8-382faf672206"
      },
      "source": [
        "df"
      ],
      "execution_count": 10,
      "outputs": [
        {
          "output_type": "execute_result",
          "data": {
            "text/html": [
              "<div>\n",
              "<style scoped>\n",
              "    .dataframe tbody tr th:only-of-type {\n",
              "        vertical-align: middle;\n",
              "    }\n",
              "\n",
              "    .dataframe tbody tr th {\n",
              "        vertical-align: top;\n",
              "    }\n",
              "\n",
              "    .dataframe thead th {\n",
              "        text-align: right;\n",
              "    }\n",
              "</style>\n",
              "<table border=\"1\" class=\"dataframe\">\n",
              "  <thead>\n",
              "    <tr style=\"text-align: right;\">\n",
              "      <th></th>\n",
              "      <th>extract_date</th>\n",
              "      <th>specimen_date</th>\n",
              "      <th>number_tested</th>\n",
              "      <th>number_confirmed</th>\n",
              "      <th>number_hospitalized</th>\n",
              "      <th>number_deaths</th>\n",
              "    </tr>\n",
              "  </thead>\n",
              "  <tbody>\n",
              "    <tr>\n",
              "      <th>0</th>\n",
              "      <td>2021-06-20T00:00:00.000</td>\n",
              "      <td>2020-04-21T00:00:00.000</td>\n",
              "      <td>9771</td>\n",
              "      <td>3610</td>\n",
              "      <td>682</td>\n",
              "      <td>320</td>\n",
              "    </tr>\n",
              "    <tr>\n",
              "      <th>1</th>\n",
              "      <td>2021-06-20T00:00:00.000</td>\n",
              "      <td>2020-03-01T00:00:00.000</td>\n",
              "      <td>4</td>\n",
              "      <td>1</td>\n",
              "      <td>0</td>\n",
              "      <td>0</td>\n",
              "    </tr>\n",
              "    <tr>\n",
              "      <th>2</th>\n",
              "      <td>2021-06-20T00:00:00.000</td>\n",
              "      <td>2021-01-07T00:00:00.000</td>\n",
              "      <td>22465</td>\n",
              "      <td>3617</td>\n",
              "      <td>277</td>\n",
              "      <td>55</td>\n",
              "    </tr>\n",
              "    <tr>\n",
              "      <th>3</th>\n",
              "      <td>2021-06-20T00:00:00.000</td>\n",
              "      <td>2021-01-20T00:00:00.000</td>\n",
              "      <td>18772</td>\n",
              "      <td>3028</td>\n",
              "      <td>253</td>\n",
              "      <td>56</td>\n",
              "    </tr>\n",
              "    <tr>\n",
              "      <th>4</th>\n",
              "      <td>2021-06-20T00:00:00.000</td>\n",
              "      <td>2021-03-09T00:00:00.000</td>\n",
              "      <td>14181</td>\n",
              "      <td>1742</td>\n",
              "      <td>178</td>\n",
              "      <td>24</td>\n",
              "    </tr>\n",
              "    <tr>\n",
              "      <th>...</th>\n",
              "      <td>...</td>\n",
              "      <td>...</td>\n",
              "      <td>...</td>\n",
              "      <td>...</td>\n",
              "      <td>...</td>\n",
              "      <td>...</td>\n",
              "    </tr>\n",
              "    <tr>\n",
              "      <th>995</th>\n",
              "      <td>2021-06-19T00:00:00.000</td>\n",
              "      <td>2021-03-30T00:00:00.000</td>\n",
              "      <td>13109</td>\n",
              "      <td>1526</td>\n",
              "      <td>139</td>\n",
              "      <td>27</td>\n",
              "    </tr>\n",
              "    <tr>\n",
              "      <th>996</th>\n",
              "      <td>2021-06-19T00:00:00.000</td>\n",
              "      <td>2021-03-24T00:00:00.000</td>\n",
              "      <td>14784</td>\n",
              "      <td>1655</td>\n",
              "      <td>169</td>\n",
              "      <td>23</td>\n",
              "    </tr>\n",
              "    <tr>\n",
              "      <th>997</th>\n",
              "      <td>2021-06-19T00:00:00.000</td>\n",
              "      <td>2020-03-02T00:00:00.000</td>\n",
              "      <td>4</td>\n",
              "      <td>0</td>\n",
              "      <td>0</td>\n",
              "      <td>0</td>\n",
              "    </tr>\n",
              "    <tr>\n",
              "      <th>998</th>\n",
              "      <td>2021-06-19T00:00:00.000</td>\n",
              "      <td>2020-11-24T00:00:00.000</td>\n",
              "      <td>21842</td>\n",
              "      <td>2472</td>\n",
              "      <td>167</td>\n",
              "      <td>38</td>\n",
              "    </tr>\n",
              "    <tr>\n",
              "      <th>999</th>\n",
              "      <td>2021-06-19T00:00:00.000</td>\n",
              "      <td>2020-07-19T00:00:00.000</td>\n",
              "      <td>7372</td>\n",
              "      <td>675</td>\n",
              "      <td>79</td>\n",
              "      <td>14</td>\n",
              "    </tr>\n",
              "  </tbody>\n",
              "</table>\n",
              "<p>1000 rows × 6 columns</p>\n",
              "</div>"
            ],
            "text/plain": [
              "                extract_date  ... number_deaths\n",
              "0    2021-06-20T00:00:00.000  ...           320\n",
              "1    2021-06-20T00:00:00.000  ...             0\n",
              "2    2021-06-20T00:00:00.000  ...            55\n",
              "3    2021-06-20T00:00:00.000  ...            56\n",
              "4    2021-06-20T00:00:00.000  ...            24\n",
              "..                       ...  ...           ...\n",
              "995  2021-06-19T00:00:00.000  ...            27\n",
              "996  2021-06-19T00:00:00.000  ...            23\n",
              "997  2021-06-19T00:00:00.000  ...             0\n",
              "998  2021-06-19T00:00:00.000  ...            38\n",
              "999  2021-06-19T00:00:00.000  ...            14\n",
              "\n",
              "[1000 rows x 6 columns]"
            ]
          },
          "metadata": {
            "tags": []
          },
          "execution_count": 10
        }
      ]
    },
    {
      "cell_type": "code",
      "metadata": {
        "colab": {
          "base_uri": "https://localhost:8080/",
          "height": 360
        },
        "id": "d3JEc8trRhXh",
        "outputId": "5477b6fe-02a4-4e2f-df58-f062878c6809"
      },
      "source": [
        "df.head(20)"
      ],
      "execution_count": 12,
      "outputs": [
        {
          "output_type": "execute_result",
          "data": {
            "text/html": [
              "<div>\n",
              "<style scoped>\n",
              "    .dataframe tbody tr th:only-of-type {\n",
              "        vertical-align: middle;\n",
              "    }\n",
              "\n",
              "    .dataframe tbody tr th {\n",
              "        vertical-align: top;\n",
              "    }\n",
              "\n",
              "    .dataframe thead th {\n",
              "        text-align: right;\n",
              "    }\n",
              "</style>\n",
              "<table border=\"1\" class=\"dataframe\">\n",
              "  <thead>\n",
              "    <tr style=\"text-align: right;\">\n",
              "      <th></th>\n",
              "      <th>extract_date</th>\n",
              "      <th>specimen_date</th>\n",
              "      <th>number_tested</th>\n",
              "      <th>number_confirmed</th>\n",
              "      <th>number_hospitalized</th>\n",
              "      <th>number_deaths</th>\n",
              "    </tr>\n",
              "  </thead>\n",
              "  <tbody>\n",
              "    <tr>\n",
              "      <th>0</th>\n",
              "      <td>2021-06-20T00:00:00.000</td>\n",
              "      <td>2020-04-21T00:00:00.000</td>\n",
              "      <td>9771</td>\n",
              "      <td>3610</td>\n",
              "      <td>682</td>\n",
              "      <td>320</td>\n",
              "    </tr>\n",
              "    <tr>\n",
              "      <th>1</th>\n",
              "      <td>2021-06-20T00:00:00.000</td>\n",
              "      <td>2020-03-01T00:00:00.000</td>\n",
              "      <td>4</td>\n",
              "      <td>1</td>\n",
              "      <td>0</td>\n",
              "      <td>0</td>\n",
              "    </tr>\n",
              "    <tr>\n",
              "      <th>2</th>\n",
              "      <td>2021-06-20T00:00:00.000</td>\n",
              "      <td>2021-01-07T00:00:00.000</td>\n",
              "      <td>22465</td>\n",
              "      <td>3617</td>\n",
              "      <td>277</td>\n",
              "      <td>55</td>\n",
              "    </tr>\n",
              "    <tr>\n",
              "      <th>3</th>\n",
              "      <td>2021-06-20T00:00:00.000</td>\n",
              "      <td>2021-01-20T00:00:00.000</td>\n",
              "      <td>18772</td>\n",
              "      <td>3028</td>\n",
              "      <td>253</td>\n",
              "      <td>56</td>\n",
              "    </tr>\n",
              "    <tr>\n",
              "      <th>4</th>\n",
              "      <td>2021-06-20T00:00:00.000</td>\n",
              "      <td>2021-03-09T00:00:00.000</td>\n",
              "      <td>14181</td>\n",
              "      <td>1742</td>\n",
              "      <td>178</td>\n",
              "      <td>24</td>\n",
              "    </tr>\n",
              "    <tr>\n",
              "      <th>5</th>\n",
              "      <td>2021-06-20T00:00:00.000</td>\n",
              "      <td>2020-09-07T00:00:00.000</td>\n",
              "      <td>9142</td>\n",
              "      <td>840</td>\n",
              "      <td>64</td>\n",
              "      <td>9</td>\n",
              "    </tr>\n",
              "    <tr>\n",
              "      <th>6</th>\n",
              "      <td>2021-06-20T00:00:00.000</td>\n",
              "      <td>2021-01-24T00:00:00.000</td>\n",
              "      <td>8776</td>\n",
              "      <td>1666</td>\n",
              "      <td>180</td>\n",
              "      <td>31</td>\n",
              "    </tr>\n",
              "    <tr>\n",
              "      <th>7</th>\n",
              "      <td>2021-06-20T00:00:00.000</td>\n",
              "      <td>2021-02-25T00:00:00.000</td>\n",
              "      <td>15967</td>\n",
              "      <td>1983</td>\n",
              "      <td>187</td>\n",
              "      <td>50</td>\n",
              "    </tr>\n",
              "    <tr>\n",
              "      <th>8</th>\n",
              "      <td>2021-06-20T00:00:00.000</td>\n",
              "      <td>2020-03-04T00:00:00.000</td>\n",
              "      <td>40</td>\n",
              "      <td>10</td>\n",
              "      <td>6</td>\n",
              "      <td>2</td>\n",
              "    </tr>\n",
              "    <tr>\n",
              "      <th>9</th>\n",
              "      <td>2021-06-20T00:00:00.000</td>\n",
              "      <td>2020-07-01T00:00:00.000</td>\n",
              "      <td>19444</td>\n",
              "      <td>1680</td>\n",
              "      <td>174</td>\n",
              "      <td>38</td>\n",
              "    </tr>\n",
              "  </tbody>\n",
              "</table>\n",
              "</div>"
            ],
            "text/plain": [
              "              extract_date  ... number_deaths\n",
              "0  2021-06-20T00:00:00.000  ...           320\n",
              "1  2021-06-20T00:00:00.000  ...             0\n",
              "2  2021-06-20T00:00:00.000  ...            55\n",
              "3  2021-06-20T00:00:00.000  ...            56\n",
              "4  2021-06-20T00:00:00.000  ...            24\n",
              "5  2021-06-20T00:00:00.000  ...             9\n",
              "6  2021-06-20T00:00:00.000  ...            31\n",
              "7  2021-06-20T00:00:00.000  ...            50\n",
              "8  2021-06-20T00:00:00.000  ...             2\n",
              "9  2021-06-20T00:00:00.000  ...            38\n",
              "\n",
              "[10 rows x 6 columns]"
            ]
          },
          "metadata": {
            "tags": []
          },
          "execution_count": 12
        }
      ]
    },
    {
      "cell_type": "code",
      "metadata": {
        "colab": {
          "base_uri": "https://localhost:8080/",
          "height": 360
        },
        "id": "LCUxFLRJpYMo",
        "outputId": "cb17f435-1989-4341-8ac8-bbac7ce5f2fa"
      },
      "source": [
        "df.tail(10)"
      ],
      "execution_count": 15,
      "outputs": [
        {
          "output_type": "execute_result",
          "data": {
            "text/html": [
              "<div>\n",
              "<style scoped>\n",
              "    .dataframe tbody tr th:only-of-type {\n",
              "        vertical-align: middle;\n",
              "    }\n",
              "\n",
              "    .dataframe tbody tr th {\n",
              "        vertical-align: top;\n",
              "    }\n",
              "\n",
              "    .dataframe thead th {\n",
              "        text-align: right;\n",
              "    }\n",
              "</style>\n",
              "<table border=\"1\" class=\"dataframe\">\n",
              "  <thead>\n",
              "    <tr style=\"text-align: right;\">\n",
              "      <th></th>\n",
              "      <th>extract_date</th>\n",
              "      <th>specimen_date</th>\n",
              "      <th>number_tested</th>\n",
              "      <th>number_confirmed</th>\n",
              "      <th>number_hospitalized</th>\n",
              "      <th>number_deaths</th>\n",
              "    </tr>\n",
              "  </thead>\n",
              "  <tbody>\n",
              "    <tr>\n",
              "      <th>990</th>\n",
              "      <td>2021-06-19T00:00:00.000</td>\n",
              "      <td>2021-03-23T00:00:00.000</td>\n",
              "      <td>15345</td>\n",
              "      <td>1558</td>\n",
              "      <td>172</td>\n",
              "      <td>35</td>\n",
              "    </tr>\n",
              "    <tr>\n",
              "      <th>991</th>\n",
              "      <td>2021-06-19T00:00:00.000</td>\n",
              "      <td>2021-05-27T00:00:00.000</td>\n",
              "      <td>8005</td>\n",
              "      <td>115</td>\n",
              "      <td>20</td>\n",
              "      <td>1</td>\n",
              "    </tr>\n",
              "    <tr>\n",
              "      <th>992</th>\n",
              "      <td>2021-06-19T00:00:00.000</td>\n",
              "      <td>2020-01-16T00:00:00.000</td>\n",
              "      <td>1</td>\n",
              "      <td>0</td>\n",
              "      <td>0</td>\n",
              "      <td>0</td>\n",
              "    </tr>\n",
              "    <tr>\n",
              "      <th>993</th>\n",
              "      <td>2021-06-19T00:00:00.000</td>\n",
              "      <td>2020-11-04T00:00:00.000</td>\n",
              "      <td>17987</td>\n",
              "      <td>1734</td>\n",
              "      <td>115</td>\n",
              "      <td>21</td>\n",
              "    </tr>\n",
              "    <tr>\n",
              "      <th>994</th>\n",
              "      <td>2021-06-19T00:00:00.000</td>\n",
              "      <td>2020-06-02T00:00:00.000</td>\n",
              "      <td>15709</td>\n",
              "      <td>1521</td>\n",
              "      <td>187</td>\n",
              "      <td>68</td>\n",
              "    </tr>\n",
              "    <tr>\n",
              "      <th>995</th>\n",
              "      <td>2021-06-19T00:00:00.000</td>\n",
              "      <td>2021-03-30T00:00:00.000</td>\n",
              "      <td>13109</td>\n",
              "      <td>1526</td>\n",
              "      <td>139</td>\n",
              "      <td>27</td>\n",
              "    </tr>\n",
              "    <tr>\n",
              "      <th>996</th>\n",
              "      <td>2021-06-19T00:00:00.000</td>\n",
              "      <td>2021-03-24T00:00:00.000</td>\n",
              "      <td>14784</td>\n",
              "      <td>1655</td>\n",
              "      <td>169</td>\n",
              "      <td>23</td>\n",
              "    </tr>\n",
              "    <tr>\n",
              "      <th>997</th>\n",
              "      <td>2021-06-19T00:00:00.000</td>\n",
              "      <td>2020-03-02T00:00:00.000</td>\n",
              "      <td>4</td>\n",
              "      <td>0</td>\n",
              "      <td>0</td>\n",
              "      <td>0</td>\n",
              "    </tr>\n",
              "    <tr>\n",
              "      <th>998</th>\n",
              "      <td>2021-06-19T00:00:00.000</td>\n",
              "      <td>2020-11-24T00:00:00.000</td>\n",
              "      <td>21842</td>\n",
              "      <td>2472</td>\n",
              "      <td>167</td>\n",
              "      <td>38</td>\n",
              "    </tr>\n",
              "    <tr>\n",
              "      <th>999</th>\n",
              "      <td>2021-06-19T00:00:00.000</td>\n",
              "      <td>2020-07-19T00:00:00.000</td>\n",
              "      <td>7372</td>\n",
              "      <td>675</td>\n",
              "      <td>79</td>\n",
              "      <td>14</td>\n",
              "    </tr>\n",
              "  </tbody>\n",
              "</table>\n",
              "</div>"
            ],
            "text/plain": [
              "                extract_date  ... number_deaths\n",
              "990  2021-06-19T00:00:00.000  ...            35\n",
              "991  2021-06-19T00:00:00.000  ...             1\n",
              "992  2021-06-19T00:00:00.000  ...             0\n",
              "993  2021-06-19T00:00:00.000  ...            21\n",
              "994  2021-06-19T00:00:00.000  ...            68\n",
              "995  2021-06-19T00:00:00.000  ...            27\n",
              "996  2021-06-19T00:00:00.000  ...            23\n",
              "997  2021-06-19T00:00:00.000  ...             0\n",
              "998  2021-06-19T00:00:00.000  ...            38\n",
              "999  2021-06-19T00:00:00.000  ...            14\n",
              "\n",
              "[10 rows x 6 columns]"
            ]
          },
          "metadata": {
            "tags": []
          },
          "execution_count": 15
        }
      ]
    },
    {
      "cell_type": "code",
      "metadata": {
        "colab": {
          "base_uri": "https://localhost:8080/"
        },
        "id": "lBaFeI2Pywrx",
        "outputId": "0d242b61-eccd-468d-bfa6-0bd4e5730bd6"
      },
      "source": [
        "df.dtype"
      ],
      "execution_count": 35,
      "outputs": [
        {
          "output_type": "execute_result",
          "data": {
            "text/plain": [
              "number_deaths\n",
              "0      int64\n",
              "1      int64\n",
              "2      int64\n",
              "3      int64\n",
              "4      int64\n",
              "       ...  \n",
              "826    int64\n",
              "831    int64\n",
              "832    int64\n",
              "854    int64\n",
              "906    int64\n",
              "Name: number_hospitalized, Length: 138, dtype: object"
            ]
          },
          "metadata": {
            "tags": []
          },
          "execution_count": 35
        }
      ]
    },
    {
      "cell_type": "markdown",
      "metadata": {
        "id": "VhvvtrWKwpCi"
      },
      "source": [
        "# This is the number of counts of COVID 19 cases, hospitalization and deaths."
      ]
    },
    {
      "cell_type": "code",
      "metadata": {
        "colab": {
          "base_uri": "https://localhost:8080/"
        },
        "id": "U8geE87BpviB",
        "outputId": "2ff288f9-2ec6-4a07-b49e-b71cdea69f7e"
      },
      "source": [
        "df.count()"
      ],
      "execution_count": 18,
      "outputs": [
        {
          "output_type": "execute_result",
          "data": {
            "text/plain": [
              "extract_date           1000\n",
              "specimen_date          1000\n",
              "number_tested          1000\n",
              "number_confirmed       1000\n",
              "number_hospitalized    1000\n",
              "number_deaths          1000\n",
              "dtype: int64"
            ]
          },
          "metadata": {
            "tags": []
          },
          "execution_count": 18
        }
      ]
    },
    {
      "cell_type": "code",
      "metadata": {
        "colab": {
          "base_uri": "https://localhost:8080/"
        },
        "id": "LcXm2v2BsRff",
        "outputId": "d167a1d6-91e7-4025-8f3b-c61f66a3958a"
      },
      "source": [
        "df.max()"
      ],
      "execution_count": 19,
      "outputs": [
        {
          "output_type": "execute_result",
          "data": {
            "text/plain": [
              "extract_date           2021-06-20T00:00:00.000\n",
              "specimen_date          2021-06-19T00:00:00.000\n",
              "number_tested                            24521\n",
              "number_confirmed                          6792\n",
              "number_hospitalized                       1972\n",
              "number_deaths                              906\n",
              "dtype: object"
            ]
          },
          "metadata": {
            "tags": []
          },
          "execution_count": 19
        }
      ]
    },
    {
      "cell_type": "code",
      "metadata": {
        "colab": {
          "base_uri": "https://localhost:8080/"
        },
        "id": "FlJQtQLqsVgO",
        "outputId": "6350f105-3e99-4480-82df-b2d36985286e"
      },
      "source": [
        "df.mean()"
      ],
      "execution_count": 20,
      "outputs": [
        {
          "output_type": "execute_result",
          "data": {
            "text/plain": [
              "number_tested          11360.820\n",
              "number_confirmed        1504.209\n",
              "number_hospitalized      210.386\n",
              "number_deaths             64.602\n",
              "dtype: float64"
            ]
          },
          "metadata": {
            "tags": []
          },
          "execution_count": 20
        }
      ]
    },
    {
      "cell_type": "code",
      "metadata": {
        "colab": {
          "base_uri": "https://localhost:8080/"
        },
        "id": "xl4H9_nyxNmv",
        "outputId": "31195994-5799-4160-906e-3398269fec37"
      },
      "source": [
        "df.median()"
      ],
      "execution_count": 27,
      "outputs": [
        {
          "output_type": "execute_result",
          "data": {
            "text/plain": [
              "number_tested          11375.0\n",
              "number_confirmed        1387.5\n",
              "number_hospitalized      137.0\n",
              "number_deaths             26.0\n",
              "dtype: float64"
            ]
          },
          "metadata": {
            "tags": []
          },
          "execution_count": 27
        }
      ]
    },
    {
      "cell_type": "code",
      "metadata": {
        "colab": {
          "base_uri": "https://localhost:8080/",
          "height": 452
        },
        "id": "C8LVXN7vBHuG",
        "outputId": "14295468-3a0d-4aa3-9bdb-0f079930e8ea"
      },
      "source": [
        "df.describe()"
      ],
      "execution_count": 67,
      "outputs": [
        {
          "output_type": "execute_result",
          "data": {
            "text/html": [
              "<div>\n",
              "<style scoped>\n",
              "    .dataframe tbody tr th:only-of-type {\n",
              "        vertical-align: middle;\n",
              "    }\n",
              "\n",
              "    .dataframe tbody tr th {\n",
              "        vertical-align: top;\n",
              "    }\n",
              "\n",
              "    .dataframe thead th {\n",
              "        text-align: right;\n",
              "    }\n",
              "</style>\n",
              "<table border=\"1\" class=\"dataframe\">\n",
              "  <thead>\n",
              "    <tr style=\"text-align: right;\">\n",
              "      <th></th>\n",
              "      <th>count</th>\n",
              "      <th>mean</th>\n",
              "      <th>std</th>\n",
              "      <th>min</th>\n",
              "      <th>25%</th>\n",
              "      <th>50%</th>\n",
              "      <th>75%</th>\n",
              "      <th>max</th>\n",
              "    </tr>\n",
              "    <tr>\n",
              "      <th>number_deaths</th>\n",
              "      <th></th>\n",
              "      <th></th>\n",
              "      <th></th>\n",
              "      <th></th>\n",
              "      <th></th>\n",
              "      <th></th>\n",
              "      <th></th>\n",
              "      <th></th>\n",
              "    </tr>\n",
              "  </thead>\n",
              "  <tbody>\n",
              "    <tr>\n",
              "      <th>0</th>\n",
              "      <td>131.0</td>\n",
              "      <td>2.801527</td>\n",
              "      <td>5.385764</td>\n",
              "      <td>0.0</td>\n",
              "      <td>0.00</td>\n",
              "      <td>0.0</td>\n",
              "      <td>2.00</td>\n",
              "      <td>29.0</td>\n",
              "    </tr>\n",
              "    <tr>\n",
              "      <th>1</th>\n",
              "      <td>32.0</td>\n",
              "      <td>16.718750</td>\n",
              "      <td>8.144796</td>\n",
              "      <td>0.0</td>\n",
              "      <td>12.00</td>\n",
              "      <td>15.0</td>\n",
              "      <td>21.00</td>\n",
              "      <td>31.0</td>\n",
              "    </tr>\n",
              "    <tr>\n",
              "      <th>2</th>\n",
              "      <td>9.0</td>\n",
              "      <td>24.000000</td>\n",
              "      <td>14.585952</td>\n",
              "      <td>6.0</td>\n",
              "      <td>6.00</td>\n",
              "      <td>28.0</td>\n",
              "      <td>29.00</td>\n",
              "      <td>42.0</td>\n",
              "    </tr>\n",
              "    <tr>\n",
              "      <th>3</th>\n",
              "      <td>10.0</td>\n",
              "      <td>24.700000</td>\n",
              "      <td>13.123770</td>\n",
              "      <td>4.0</td>\n",
              "      <td>12.25</td>\n",
              "      <td>31.0</td>\n",
              "      <td>34.75</td>\n",
              "      <td>35.0</td>\n",
              "    </tr>\n",
              "    <tr>\n",
              "      <th>4</th>\n",
              "      <td>7.0</td>\n",
              "      <td>31.285714</td>\n",
              "      <td>17.641941</td>\n",
              "      <td>17.0</td>\n",
              "      <td>18.00</td>\n",
              "      <td>19.0</td>\n",
              "      <td>46.00</td>\n",
              "      <td>55.0</td>\n",
              "    </tr>\n",
              "    <tr>\n",
              "      <th>...</th>\n",
              "      <td>...</td>\n",
              "      <td>...</td>\n",
              "      <td>...</td>\n",
              "      <td>...</td>\n",
              "      <td>...</td>\n",
              "      <td>...</td>\n",
              "      <td>...</td>\n",
              "      <td>...</td>\n",
              "    </tr>\n",
              "    <tr>\n",
              "      <th>826</th>\n",
              "      <td>2.0</td>\n",
              "      <td>1742.000000</td>\n",
              "      <td>0.000000</td>\n",
              "      <td>1742.0</td>\n",
              "      <td>1742.00</td>\n",
              "      <td>1742.0</td>\n",
              "      <td>1742.00</td>\n",
              "      <td>1742.0</td>\n",
              "    </tr>\n",
              "    <tr>\n",
              "      <th>831</th>\n",
              "      <td>1.0</td>\n",
              "      <td>1960.000000</td>\n",
              "      <td>NaN</td>\n",
              "      <td>1960.0</td>\n",
              "      <td>1960.00</td>\n",
              "      <td>1960.0</td>\n",
              "      <td>1960.00</td>\n",
              "      <td>1960.0</td>\n",
              "    </tr>\n",
              "    <tr>\n",
              "      <th>832</th>\n",
              "      <td>1.0</td>\n",
              "      <td>1960.000000</td>\n",
              "      <td>NaN</td>\n",
              "      <td>1960.0</td>\n",
              "      <td>1960.00</td>\n",
              "      <td>1960.0</td>\n",
              "      <td>1960.00</td>\n",
              "      <td>1960.0</td>\n",
              "    </tr>\n",
              "    <tr>\n",
              "      <th>854</th>\n",
              "      <td>2.0</td>\n",
              "      <td>1894.000000</td>\n",
              "      <td>0.000000</td>\n",
              "      <td>1894.0</td>\n",
              "      <td>1894.00</td>\n",
              "      <td>1894.0</td>\n",
              "      <td>1894.00</td>\n",
              "      <td>1894.0</td>\n",
              "    </tr>\n",
              "    <tr>\n",
              "      <th>906</th>\n",
              "      <td>2.0</td>\n",
              "      <td>1972.000000</td>\n",
              "      <td>0.000000</td>\n",
              "      <td>1972.0</td>\n",
              "      <td>1972.00</td>\n",
              "      <td>1972.0</td>\n",
              "      <td>1972.00</td>\n",
              "      <td>1972.0</td>\n",
              "    </tr>\n",
              "  </tbody>\n",
              "</table>\n",
              "<p>138 rows × 8 columns</p>\n",
              "</div>"
            ],
            "text/plain": [
              "               count         mean        std  ...     50%      75%     max\n",
              "number_deaths                                 ...                         \n",
              "0              131.0     2.801527   5.385764  ...     0.0     2.00    29.0\n",
              "1               32.0    16.718750   8.144796  ...    15.0    21.00    31.0\n",
              "2                9.0    24.000000  14.585952  ...    28.0    29.00    42.0\n",
              "3               10.0    24.700000  13.123770  ...    31.0    34.75    35.0\n",
              "4                7.0    31.285714  17.641941  ...    19.0    46.00    55.0\n",
              "...              ...          ...        ...  ...     ...      ...     ...\n",
              "826              2.0  1742.000000   0.000000  ...  1742.0  1742.00  1742.0\n",
              "831              1.0  1960.000000        NaN  ...  1960.0  1960.00  1960.0\n",
              "832              1.0  1960.000000        NaN  ...  1960.0  1960.00  1960.0\n",
              "854              2.0  1894.000000   0.000000  ...  1894.0  1894.00  1894.0\n",
              "906              2.0  1972.000000   0.000000  ...  1972.0  1972.00  1972.0\n",
              "\n",
              "[138 rows x 8 columns]"
            ]
          },
          "metadata": {
            "tags": []
          },
          "execution_count": 67
        }
      ]
    },
    {
      "cell_type": "markdown",
      "metadata": {
        "id": "FYngyqADtreU"
      },
      "source": [
        "# Finding the missing values. The dataset is clean and there are no  issing values."
      ]
    },
    {
      "cell_type": "code",
      "metadata": {
        "colab": {
          "base_uri": "https://localhost:8080/"
        },
        "id": "Gn3XL4YvtGzg",
        "outputId": "f7be414b-722e-4383-9417-207427c03292"
      },
      "source": [
        "df.isnull().sum()"
      ],
      "execution_count": 21,
      "outputs": [
        {
          "output_type": "execute_result",
          "data": {
            "text/plain": [
              "extract_date           0\n",
              "specimen_date          0\n",
              "number_tested          0\n",
              "number_confirmed       0\n",
              "number_hospitalized    0\n",
              "number_deaths          0\n",
              "dtype: int64"
            ]
          },
          "metadata": {
            "tags": []
          },
          "execution_count": 21
        }
      ]
    },
    {
      "cell_type": "code",
      "metadata": {
        "colab": {
          "base_uri": "https://localhost:8080/"
        },
        "id": "ATDN-oGht0lA",
        "outputId": "0e745399-f74a-4c22-9f4f-8d5b7682fe81"
      },
      "source": [
        "df.columns"
      ],
      "execution_count": 24,
      "outputs": [
        {
          "output_type": "execute_result",
          "data": {
            "text/plain": [
              "Index(['extract_date', 'specimen_date', 'number_tested', 'number_confirmed',\n",
              "       'number_hospitalized', 'number_deaths'],\n",
              "      dtype='object')"
            ]
          },
          "metadata": {
            "tags": []
          },
          "execution_count": 24
        }
      ]
    },
    {
      "cell_type": "code",
      "metadata": {
        "colab": {
          "base_uri": "https://localhost:8080/"
        },
        "id": "friY_9KauC03",
        "outputId": "68d016f8-f8b3-4d5f-975c-256d7052a7d4"
      },
      "source": [
        "df.nunique()"
      ],
      "execution_count": 26,
      "outputs": [
        {
          "output_type": "execute_result",
          "data": {
            "text/plain": [
              "extract_date             2\n",
              "specimen_date          524\n",
              "number_tested          526\n",
              "number_confirmed       517\n",
              "number_hospitalized    260\n",
              "number_deaths          138\n",
              "dtype: int64"
            ]
          },
          "metadata": {
            "tags": []
          },
          "execution_count": 26
        }
      ]
    },
    {
      "cell_type": "code",
      "metadata": {
        "colab": {
          "base_uri": "https://localhost:8080/"
        },
        "id": "L5a7zGuQxiza",
        "outputId": "5ac1dd1e-d645-4e48-f3e4-3177e96a8d94"
      },
      "source": [
        "df.plot(kind=\"hist\")"
      ],
      "execution_count": 77,
      "outputs": [
        {
          "output_type": "execute_result",
          "data": {
            "text/plain": [
              "number_deaths\n",
              "0      AxesSubplot(0.125,0.11;0.775x0.77)\n",
              "1      AxesSubplot(0.125,0.11;0.775x0.77)\n",
              "2      AxesSubplot(0.125,0.11;0.775x0.77)\n",
              "3      AxesSubplot(0.125,0.11;0.775x0.77)\n",
              "4      AxesSubplot(0.125,0.11;0.775x0.77)\n",
              "                      ...                \n",
              "826    AxesSubplot(0.125,0.11;0.775x0.77)\n",
              "831    AxesSubplot(0.125,0.11;0.775x0.77)\n",
              "832    AxesSubplot(0.125,0.11;0.775x0.77)\n",
              "854    AxesSubplot(0.125,0.11;0.775x0.77)\n",
              "906    AxesSubplot(0.125,0.11;0.775x0.77)\n",
              "Name: number_hospitalized, Length: 138, dtype: object"
            ]
          },
          "metadata": {
            "tags": []
          },
          "execution_count": 77
        }
      ]
    },
    {
      "cell_type": "code",
      "metadata": {
        "colab": {
          "base_uri": "https://localhost:8080/"
        },
        "id": "mXm3kbArx7g0",
        "outputId": "67b110b5-22c5-4c9f-dcce-89b642f3a2ff"
      },
      "source": [
        "df.plot(kind=\"hist\")"
      ],
      "execution_count": 41,
      "outputs": [
        {
          "output_type": "execute_result",
          "data": {
            "text/plain": [
              "number_deaths\n",
              "0      AxesSubplot(0.125,0.11;0.775x0.77)\n",
              "1      AxesSubplot(0.125,0.11;0.775x0.77)\n",
              "2      AxesSubplot(0.125,0.11;0.775x0.77)\n",
              "3      AxesSubplot(0.125,0.11;0.775x0.77)\n",
              "4      AxesSubplot(0.125,0.11;0.775x0.77)\n",
              "                      ...                \n",
              "826    AxesSubplot(0.125,0.11;0.775x0.77)\n",
              "831    AxesSubplot(0.125,0.11;0.775x0.77)\n",
              "832    AxesSubplot(0.125,0.11;0.775x0.77)\n",
              "854    AxesSubplot(0.125,0.11;0.775x0.77)\n",
              "906    AxesSubplot(0.125,0.11;0.775x0.77)\n",
              "Name: number_hospitalized, Length: 138, dtype: object"
            ]
          },
          "metadata": {
            "tags": []
          },
          "execution_count": 41
        }
      ]
    },
    {
      "cell_type": "code",
      "metadata": {
        "colab": {
          "base_uri": "https://localhost:8080/",
          "height": 130
        },
        "id": "TWWUtW7JBqd4",
        "outputId": "40d6a3ae-d614-4857-c359-e3eee7a65b3c"
      },
      "source": [
        "df.plot(kind='scatter, x = 'specimen_date', y = 'number_confirmed')"
      ],
      "execution_count": 71,
      "outputs": [
        {
          "output_type": "error",
          "ename": "SyntaxError",
          "evalue": "ignored",
          "traceback": [
            "\u001b[0;36m  File \u001b[0;32m\"<ipython-input-71-7706156497da>\"\u001b[0;36m, line \u001b[0;32m1\u001b[0m\n\u001b[0;31m    df.plot(kind='scatter, x = 'specimen_date', y = 'number_confirmed')\u001b[0m\n\u001b[0m                                            ^\u001b[0m\n\u001b[0;31mSyntaxError\u001b[0m\u001b[0;31m:\u001b[0m invalid syntax\n"
          ]
        }
      ]
    }
  ]
}